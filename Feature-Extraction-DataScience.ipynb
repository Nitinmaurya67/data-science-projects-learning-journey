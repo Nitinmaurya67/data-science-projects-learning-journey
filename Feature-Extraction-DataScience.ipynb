{
 "cells": [
  {
   "cell_type": "code",
   "execution_count": 1,
   "id": "7dfbdd7e-b022-46c7-a5b7-8d5e7c3ccab7",
   "metadata": {},
   "outputs": [],
   "source": [
    "import pandas as pd\n",
    "import numpy  as np"
   ]
  },
  {
   "cell_type": "code",
   "execution_count": 2,
   "id": "a58fa092-a0bd-431c-9004-be74f62bbdee",
   "metadata": {},
   "outputs": [],
   "source": [
    "df = pd.read_csv(r'anime.csv')"
   ]
  },
  {
   "cell_type": "code",
   "execution_count": 3,
   "id": "98b6cfce-a915-4a5f-b570-c24f7a9937a1",
   "metadata": {},
   "outputs": [
    {
     "data": {
      "text/html": [
       "<div>\n",
       "<style scoped>\n",
       "    .dataframe tbody tr th:only-of-type {\n",
       "        vertical-align: middle;\n",
       "    }\n",
       "\n",
       "    .dataframe tbody tr th {\n",
       "        vertical-align: top;\n",
       "    }\n",
       "\n",
       "    .dataframe thead th {\n",
       "        text-align: right;\n",
       "    }\n",
       "</style>\n",
       "<table border=\"1\" class=\"dataframe\">\n",
       "  <thead>\n",
       "    <tr style=\"text-align: right;\">\n",
       "      <th></th>\n",
       "      <th>Rank</th>\n",
       "      <th>Title</th>\n",
       "      <th>Score</th>\n",
       "    </tr>\n",
       "  </thead>\n",
       "  <tbody>\n",
       "    <tr>\n",
       "      <th>0</th>\n",
       "      <td>1</td>\n",
       "      <td>Fullmetal Alchemist: BrotherhoodTV (64 eps)Apr...</td>\n",
       "      <td>9.10</td>\n",
       "    </tr>\n",
       "    <tr>\n",
       "      <th>1</th>\n",
       "      <td>2</td>\n",
       "      <td>Steins;GateTV (24 eps)Apr 2011 - Sep 20112,473...</td>\n",
       "      <td>9.07</td>\n",
       "    </tr>\n",
       "    <tr>\n",
       "      <th>2</th>\n",
       "      <td>3</td>\n",
       "      <td>Bleach: Sennen Kessen-henTV (13 eps)Oct 2022 -...</td>\n",
       "      <td>9.06</td>\n",
       "    </tr>\n",
       "    <tr>\n",
       "      <th>3</th>\n",
       "      <td>4</td>\n",
       "      <td>Gintama°TV (51 eps)Apr 2015 - Mar 2016605,113 ...</td>\n",
       "      <td>9.06</td>\n",
       "    </tr>\n",
       "    <tr>\n",
       "      <th>4</th>\n",
       "      <td>5</td>\n",
       "      <td>Shingeki no Kyojin Season 3 Part 2TV (10 eps)A...</td>\n",
       "      <td>9.05</td>\n",
       "    </tr>\n",
       "  </tbody>\n",
       "</table>\n",
       "</div>"
      ],
      "text/plain": [
       "   Rank                                              Title  Score\n",
       "0     1  Fullmetal Alchemist: BrotherhoodTV (64 eps)Apr...   9.10\n",
       "1     2  Steins;GateTV (24 eps)Apr 2011 - Sep 20112,473...   9.07\n",
       "2     3  Bleach: Sennen Kessen-henTV (13 eps)Oct 2022 -...   9.06\n",
       "3     4  Gintama°TV (51 eps)Apr 2015 - Mar 2016605,113 ...   9.06\n",
       "4     5  Shingeki no Kyojin Season 3 Part 2TV (10 eps)A...   9.05"
      ]
     },
     "execution_count": 3,
     "metadata": {},
     "output_type": "execute_result"
    }
   ],
   "source": [
    "df.head()"
   ]
  },
  {
   "cell_type": "code",
   "execution_count": 4,
   "id": "f41d94cc-f5a2-400c-a3a9-f235186f301b",
   "metadata": {},
   "outputs": [
    {
     "data": {
      "text/plain": [
       "'Steins;GateTV (24 eps)Apr 2011 - Sep 20112,473,707 members'"
      ]
     },
     "execution_count": 4,
     "metadata": {},
     "output_type": "execute_result"
    }
   ],
   "source": [
    "df.loc[1]['Title']"
   ]
  },
  {
   "cell_type": "markdown",
   "id": "ccb24f25-e129-4be6-97ba-de164c68a900",
   "metadata": {},
   "source": [
    "## 1. adding new column for no of episode "
   ]
  },
  {
   "cell_type": "code",
   "execution_count": 5,
   "id": "7cb8135a-5b4f-4b50-99ea-a41986ee5a2d",
   "metadata": {},
   "outputs": [],
   "source": [
    "def extract_episode(txt) :\n",
    "    check = False\n",
    "    ep =''\n",
    "    for i in txt :\n",
    "        if i == ')' :\n",
    "            check = False\n",
    "            break\n",
    "        if i == '(' :\n",
    "            check = True\n",
    "            continue\n",
    "        if check  :\n",
    "            ep+=i\n",
    "    return ep    \n",
    "    \n",
    "    "
   ]
  },
  {
   "cell_type": "code",
   "execution_count": 6,
   "id": "ba24abc3-ca9b-4f8e-b299-6ec5ae9259d0",
   "metadata": {},
   "outputs": [
    {
     "data": {
      "text/plain": [
       "'24 eps'"
      ]
     },
     "execution_count": 6,
     "metadata": {},
     "output_type": "execute_result"
    }
   ],
   "source": [
    "extract_episode(df.loc[1]['Title'])"
   ]
  },
  {
   "cell_type": "code",
   "execution_count": 7,
   "id": "95d4a983-cea6-4de6-b8c6-4d20e771968c",
   "metadata": {},
   "outputs": [],
   "source": [
    "df['Episodes'] = df['Title'].apply(extract_episode).str.replace('eps', ' ').astype(int)"
   ]
  },
  {
   "cell_type": "code",
   "execution_count": 8,
   "id": "ae5d7367-b001-4b6c-941a-405bb991e58f",
   "metadata": {},
   "outputs": [
    {
     "data": {
      "text/html": [
       "<div>\n",
       "<style scoped>\n",
       "    .dataframe tbody tr th:only-of-type {\n",
       "        vertical-align: middle;\n",
       "    }\n",
       "\n",
       "    .dataframe tbody tr th {\n",
       "        vertical-align: top;\n",
       "    }\n",
       "\n",
       "    .dataframe thead th {\n",
       "        text-align: right;\n",
       "    }\n",
       "</style>\n",
       "<table border=\"1\" class=\"dataframe\">\n",
       "  <thead>\n",
       "    <tr style=\"text-align: right;\">\n",
       "      <th></th>\n",
       "      <th>Rank</th>\n",
       "      <th>Title</th>\n",
       "      <th>Score</th>\n",
       "      <th>Episodes</th>\n",
       "    </tr>\n",
       "  </thead>\n",
       "  <tbody>\n",
       "    <tr>\n",
       "      <th>0</th>\n",
       "      <td>1</td>\n",
       "      <td>Fullmetal Alchemist: BrotherhoodTV (64 eps)Apr...</td>\n",
       "      <td>9.10</td>\n",
       "      <td>64</td>\n",
       "    </tr>\n",
       "    <tr>\n",
       "      <th>1</th>\n",
       "      <td>2</td>\n",
       "      <td>Steins;GateTV (24 eps)Apr 2011 - Sep 20112,473...</td>\n",
       "      <td>9.07</td>\n",
       "      <td>24</td>\n",
       "    </tr>\n",
       "    <tr>\n",
       "      <th>2</th>\n",
       "      <td>3</td>\n",
       "      <td>Bleach: Sennen Kessen-henTV (13 eps)Oct 2022 -...</td>\n",
       "      <td>9.06</td>\n",
       "      <td>13</td>\n",
       "    </tr>\n",
       "    <tr>\n",
       "      <th>3</th>\n",
       "      <td>4</td>\n",
       "      <td>Gintama°TV (51 eps)Apr 2015 - Mar 2016605,113 ...</td>\n",
       "      <td>9.06</td>\n",
       "      <td>51</td>\n",
       "    </tr>\n",
       "    <tr>\n",
       "      <th>4</th>\n",
       "      <td>5</td>\n",
       "      <td>Shingeki no Kyojin Season 3 Part 2TV (10 eps)A...</td>\n",
       "      <td>9.05</td>\n",
       "      <td>10</td>\n",
       "    </tr>\n",
       "  </tbody>\n",
       "</table>\n",
       "</div>"
      ],
      "text/plain": [
       "   Rank                                              Title  Score  Episodes\n",
       "0     1  Fullmetal Alchemist: BrotherhoodTV (64 eps)Apr...   9.10        64\n",
       "1     2  Steins;GateTV (24 eps)Apr 2011 - Sep 20112,473...   9.07        24\n",
       "2     3  Bleach: Sennen Kessen-henTV (13 eps)Oct 2022 -...   9.06        13\n",
       "3     4  Gintama°TV (51 eps)Apr 2015 - Mar 2016605,113 ...   9.06        51\n",
       "4     5  Shingeki no Kyojin Season 3 Part 2TV (10 eps)A...   9.05        10"
      ]
     },
     "execution_count": 8,
     "metadata": {},
     "output_type": "execute_result"
    }
   ],
   "source": [
    "df.head()"
   ]
  },
  {
   "cell_type": "code",
   "execution_count": 9,
   "id": "57659fc0-c465-47ee-9fad-379c9aa9a4e5",
   "metadata": {},
   "outputs": [
    {
     "data": {
      "text/plain": [
       "Rank          int64\n",
       "Title        object\n",
       "Score       float64\n",
       "Episodes      int64\n",
       "dtype: object"
      ]
     },
     "execution_count": 9,
     "metadata": {},
     "output_type": "execute_result"
    }
   ],
   "source": [
    "df.dtypes"
   ]
  },
  {
   "cell_type": "markdown",
   "id": "159ac2a6-6659-4dc7-a2ec-654049b27e42",
   "metadata": {},
   "source": [
    "## 2. Make a new column for timestamps"
   ]
  },
  {
   "cell_type": "code",
   "execution_count": 10,
   "id": "9ab480c0-1dd8-4330-8488-c004dcdd27e1",
   "metadata": {},
   "outputs": [
    {
     "data": {
      "text/plain": [
       "'Bleach: Sennen Kessen-henTV (13 eps)Oct 2022 - Dec 2022474,138 members'"
      ]
     },
     "execution_count": 10,
     "metadata": {},
     "output_type": "execute_result"
    }
   ],
   "source": [
    "df.iloc[2]['Title']"
   ]
  },
  {
   "cell_type": "code",
   "execution_count": 11,
   "id": "2ab5e6fa-4a6c-4c5c-8251-68b164b74a32",
   "metadata": {},
   "outputs": [],
   "source": [
    "def extract_timestamp(txt) :\n",
    "    for idx,j in enumerate(txt) :\n",
    "        if j == ')' :\n",
    "            return txt[idx+1:idx+20]"
   ]
  },
  {
   "cell_type": "code",
   "execution_count": 13,
   "id": "487e70df-40b2-4f37-88c7-6de0db5d12da",
   "metadata": {},
   "outputs": [],
   "source": [
    "df['TimeStamps'] = df['Title'].apply(extract_timestamp)"
   ]
  },
  {
   "cell_type": "code",
   "execution_count": 15,
   "id": "ea4ce13c-7c81-4c35-9d15-366dab6eb312",
   "metadata": {},
   "outputs": [
    {
     "data": {
      "text/html": [
       "<div>\n",
       "<style scoped>\n",
       "    .dataframe tbody tr th:only-of-type {\n",
       "        vertical-align: middle;\n",
       "    }\n",
       "\n",
       "    .dataframe tbody tr th {\n",
       "        vertical-align: top;\n",
       "    }\n",
       "\n",
       "    .dataframe thead th {\n",
       "        text-align: right;\n",
       "    }\n",
       "</style>\n",
       "<table border=\"1\" class=\"dataframe\">\n",
       "  <thead>\n",
       "    <tr style=\"text-align: right;\">\n",
       "      <th></th>\n",
       "      <th>Rank</th>\n",
       "      <th>Title</th>\n",
       "      <th>Score</th>\n",
       "      <th>Episodes</th>\n",
       "      <th>TimeStamps</th>\n",
       "    </tr>\n",
       "  </thead>\n",
       "  <tbody>\n",
       "    <tr>\n",
       "      <th>0</th>\n",
       "      <td>1</td>\n",
       "      <td>Fullmetal Alchemist: BrotherhoodTV (64 eps)Apr...</td>\n",
       "      <td>9.10</td>\n",
       "      <td>64</td>\n",
       "      <td>Apr 2009 - Jul 2010</td>\n",
       "    </tr>\n",
       "    <tr>\n",
       "      <th>1</th>\n",
       "      <td>2</td>\n",
       "      <td>Steins;GateTV (24 eps)Apr 2011 - Sep 20112,473...</td>\n",
       "      <td>9.07</td>\n",
       "      <td>24</td>\n",
       "      <td>Apr 2011 - Sep 2011</td>\n",
       "    </tr>\n",
       "    <tr>\n",
       "      <th>2</th>\n",
       "      <td>3</td>\n",
       "      <td>Bleach: Sennen Kessen-henTV (13 eps)Oct 2022 -...</td>\n",
       "      <td>9.06</td>\n",
       "      <td>13</td>\n",
       "      <td>Oct 2022 - Dec 2022</td>\n",
       "    </tr>\n",
       "    <tr>\n",
       "      <th>3</th>\n",
       "      <td>4</td>\n",
       "      <td>Gintama°TV (51 eps)Apr 2015 - Mar 2016605,113 ...</td>\n",
       "      <td>9.06</td>\n",
       "      <td>51</td>\n",
       "      <td>Apr 2015 - Mar 2016</td>\n",
       "    </tr>\n",
       "    <tr>\n",
       "      <th>4</th>\n",
       "      <td>5</td>\n",
       "      <td>Shingeki no Kyojin Season 3 Part 2TV (10 eps)A...</td>\n",
       "      <td>9.05</td>\n",
       "      <td>10</td>\n",
       "      <td>Apr 2019 - Jul 2019</td>\n",
       "    </tr>\n",
       "  </tbody>\n",
       "</table>\n",
       "</div>"
      ],
      "text/plain": [
       "   Rank                                              Title  Score  Episodes  \\\n",
       "0     1  Fullmetal Alchemist: BrotherhoodTV (64 eps)Apr...   9.10        64   \n",
       "1     2  Steins;GateTV (24 eps)Apr 2011 - Sep 20112,473...   9.07        24   \n",
       "2     3  Bleach: Sennen Kessen-henTV (13 eps)Oct 2022 -...   9.06        13   \n",
       "3     4  Gintama°TV (51 eps)Apr 2015 - Mar 2016605,113 ...   9.06        51   \n",
       "4     5  Shingeki no Kyojin Season 3 Part 2TV (10 eps)A...   9.05        10   \n",
       "\n",
       "            TimeStamps  \n",
       "0  Apr 2009 - Jul 2010  \n",
       "1  Apr 2011 - Sep 2011  \n",
       "2  Oct 2022 - Dec 2022  \n",
       "3  Apr 2015 - Mar 2016  \n",
       "4  Apr 2019 - Jul 2019  "
      ]
     },
     "execution_count": 15,
     "metadata": {},
     "output_type": "execute_result"
    }
   ],
   "source": [
    "df.head()"
   ]
  },
  {
   "cell_type": "code",
   "execution_count": 22,
   "id": "a5727e81-cbe2-443f-8307-fbd74d8dd52f",
   "metadata": {},
   "outputs": [
    {
     "data": {
      "text/html": [
       "<div>\n",
       "<style scoped>\n",
       "    .dataframe tbody tr th:only-of-type {\n",
       "        vertical-align: middle;\n",
       "    }\n",
       "\n",
       "    .dataframe tbody tr th {\n",
       "        vertical-align: top;\n",
       "    }\n",
       "\n",
       "    .dataframe thead th {\n",
       "        text-align: right;\n",
       "    }\n",
       "</style>\n",
       "<table border=\"1\" class=\"dataframe\">\n",
       "  <thead>\n",
       "    <tr style=\"text-align: right;\">\n",
       "      <th></th>\n",
       "      <th>Rank</th>\n",
       "      <th>Title</th>\n",
       "      <th>Score</th>\n",
       "      <th>Episodes</th>\n",
       "      <th>TimeStamps</th>\n",
       "      <th>TotalMonths</th>\n",
       "    </tr>\n",
       "  </thead>\n",
       "  <tbody>\n",
       "    <tr>\n",
       "      <th>0</th>\n",
       "      <td>1</td>\n",
       "      <td>Fullmetal Alchemist: BrotherhoodTV (64 eps)Apr...</td>\n",
       "      <td>9.10</td>\n",
       "      <td>64</td>\n",
       "      <td>Apr 2009 - Jul 2010</td>\n",
       "      <td>15</td>\n",
       "    </tr>\n",
       "    <tr>\n",
       "      <th>1</th>\n",
       "      <td>2</td>\n",
       "      <td>Steins;GateTV (24 eps)Apr 2011 - Sep 20112,473...</td>\n",
       "      <td>9.07</td>\n",
       "      <td>24</td>\n",
       "      <td>Apr 2011 - Sep 2011</td>\n",
       "      <td>5</td>\n",
       "    </tr>\n",
       "    <tr>\n",
       "      <th>2</th>\n",
       "      <td>3</td>\n",
       "      <td>Bleach: Sennen Kessen-henTV (13 eps)Oct 2022 -...</td>\n",
       "      <td>9.06</td>\n",
       "      <td>13</td>\n",
       "      <td>Oct 2022 - Dec 2022</td>\n",
       "      <td>2</td>\n",
       "    </tr>\n",
       "    <tr>\n",
       "      <th>3</th>\n",
       "      <td>4</td>\n",
       "      <td>Gintama°TV (51 eps)Apr 2015 - Mar 2016605,113 ...</td>\n",
       "      <td>9.06</td>\n",
       "      <td>51</td>\n",
       "      <td>Apr 2015 - Mar 2016</td>\n",
       "      <td>11</td>\n",
       "    </tr>\n",
       "    <tr>\n",
       "      <th>4</th>\n",
       "      <td>5</td>\n",
       "      <td>Shingeki no Kyojin Season 3 Part 2TV (10 eps)A...</td>\n",
       "      <td>9.05</td>\n",
       "      <td>10</td>\n",
       "      <td>Apr 2019 - Jul 2019</td>\n",
       "      <td>3</td>\n",
       "    </tr>\n",
       "  </tbody>\n",
       "</table>\n",
       "</div>"
      ],
      "text/plain": [
       "   Rank                                              Title  Score  Episodes  \\\n",
       "0     1  Fullmetal Alchemist: BrotherhoodTV (64 eps)Apr...   9.10        64   \n",
       "1     2  Steins;GateTV (24 eps)Apr 2011 - Sep 20112,473...   9.07        24   \n",
       "2     3  Bleach: Sennen Kessen-henTV (13 eps)Oct 2022 -...   9.06        13   \n",
       "3     4  Gintama°TV (51 eps)Apr 2015 - Mar 2016605,113 ...   9.06        51   \n",
       "4     5  Shingeki no Kyojin Season 3 Part 2TV (10 eps)A...   9.05        10   \n",
       "\n",
       "            TimeStamps  TotalMonths  \n",
       "0  Apr 2009 - Jul 2010           15  \n",
       "1  Apr 2011 - Sep 2011            5  \n",
       "2  Oct 2022 - Dec 2022            2  \n",
       "3  Apr 2015 - Mar 2016           11  \n",
       "4  Apr 2019 - Jul 2019            3  "
      ]
     },
     "execution_count": 22,
     "metadata": {},
     "output_type": "execute_result"
    }
   ],
   "source": [
    "def get_total_months(range_str):\n",
    "    start, end = range_str.split(' - ')\n",
    "    start = pd.to_datetime(start, format='%b %Y')\n",
    "    end = pd.to_datetime(end, format='%b %Y')\n",
    "    return (end.year - start.year) * 12 + (end.month - start.month)\n",
    "\n",
    "df['TotalMonths'] = df['TimeStamps'].apply(get_total_months)\n",
    "df.head()"
   ]
  },
  {
   "cell_type": "markdown",
   "id": "e76426ed-ffe1-4cac-ac70-d5f45cdb3163",
   "metadata": {},
   "source": [
    "## 3. Anime has highest score ?"
   ]
  },
  {
   "cell_type": "code",
   "execution_count": 25,
   "id": "46c344d2-0ecc-4bed-bb45-c425f0004935",
   "metadata": {},
   "outputs": [
    {
     "data": {
      "text/plain": [
       "np.float64(9.1)"
      ]
     },
     "execution_count": 25,
     "metadata": {},
     "output_type": "execute_result"
    }
   ],
   "source": [
    "df['Score'].max()"
   ]
  },
  {
   "cell_type": "code",
   "execution_count": 38,
   "id": "9121e4dc-41cb-4008-b688-d9de1809af80",
   "metadata": {},
   "outputs": [
    {
     "data": {
      "text/plain": [
       "0    Fullmetal Alchemist: BrotherhoodTV (64 eps)Apr...\n",
       "Name: Title, dtype: object"
      ]
     },
     "execution_count": 38,
     "metadata": {},
     "output_type": "execute_result"
    }
   ],
   "source": [
    "df[df['Score'] == df['Score'].max()]['Title']# option 1"
   ]
  },
  {
   "cell_type": "code",
   "execution_count": 33,
   "id": "e28aee1a-b2b1-42f1-8c79-a00f60103fa9",
   "metadata": {},
   "outputs": [
    {
     "data": {
      "text/plain": [
       "'Fullmetal Alchemist: BrotherhoodTV (64 eps)Apr 2009 - Jul 20103,218,472 membersManga StoreVolume 1€4.58Preview'"
      ]
     },
     "execution_count": 33,
     "metadata": {},
     "output_type": "execute_result"
    }
   ],
   "source": [
    "df.loc[df['Score'].idxmax(), 'Title'] #option 2"
   ]
  },
  {
   "cell_type": "markdown",
   "id": "b3e20e8e-a004-4e91-b227-1c9d910c26a5",
   "metadata": {},
   "source": [
    "## 4. Top 5 rank Anime \n"
   ]
  },
  {
   "cell_type": "code",
   "execution_count": 41,
   "id": "739d9616-1974-4850-8527-4980ee0c9020",
   "metadata": {},
   "outputs": [
    {
     "data": {
      "text/plain": [
       "0    Fullmetal Alchemist: BrotherhoodTV (64 eps)Apr...\n",
       "1    Steins;GateTV (24 eps)Apr 2011 - Sep 20112,473...\n",
       "2    Bleach: Sennen Kessen-henTV (13 eps)Oct 2022 -...\n",
       "3    Gintama°TV (51 eps)Apr 2015 - Mar 2016605,113 ...\n",
       "4    Shingeki no Kyojin Season 3 Part 2TV (10 eps)A...\n",
       "Name: Title, dtype: object"
      ]
     },
     "execution_count": 41,
     "metadata": {},
     "output_type": "execute_result"
    }
   ],
   "source": [
    "df['Title'].head()"
   ]
  },
  {
   "cell_type": "markdown",
   "id": "daf62930-3b15-4e4d-948e-7915f5cc07e1",
   "metadata": {},
   "source": [
    "## 5. Which Anime Has Highest Episode Count"
   ]
  },
  {
   "cell_type": "code",
   "execution_count": 52,
   "id": "1f6d6162-141b-441a-bf66-0bc6af4e8510",
   "metadata": {},
   "outputs": [
    {
     "data": {
      "text/plain": [
       "15    GintamaTV (201 eps)Apr 2006 - Mar 20101,034,41...\n",
       "Name: Title, dtype: object"
      ]
     },
     "execution_count": 52,
     "metadata": {},
     "output_type": "execute_result"
    }
   ],
   "source": [
    "df[df['Episodes'].max()== df['Episodes']]['Title']"
   ]
  },
  {
   "cell_type": "markdown",
   "id": "c637d136-8d06-4586-afba-eda41f979538",
   "metadata": {},
   "source": [
    "## 6. Top 5 Highest Episode Count"
   ]
  },
  {
   "cell_type": "code",
   "execution_count": 56,
   "id": "f81acff1-23c5-46b4-b165-5109747d9a1b",
   "metadata": {},
   "outputs": [
    {
     "data": {
      "text/plain": [
       "11    110\n",
       "15     47\n",
       "7      35\n",
       "32     18\n",
       "24     17\n",
       "Name: TotalMonths, dtype: int64"
      ]
     },
     "execution_count": 56,
     "metadata": {},
     "output_type": "execute_result"
    }
   ],
   "source": [
    "df['TotalMonths'].nlargest(5)"
   ]
  },
  {
   "cell_type": "code",
   "execution_count": 59,
   "id": "a1ac3ffa-b6d5-4593-a428-5200fbdb67c8",
   "metadata": {},
   "outputs": [
    {
     "data": {
      "text/plain": [
       "11    Ginga Eiyuu DensetsuOVA (110 eps)Jan 1988 - Ma...\n",
       "15    GintamaTV (201 eps)Apr 2006 - Mar 20101,034,41...\n",
       "7     Hunter x Hunter TV (148 eps)Oct 2011 - Sep 201...\n",
       "32    Kingdom 3rd SeasonTV (26 eps)Apr 2020 - Oct 20...\n",
       "24    MonsterTV (74 eps)Apr 2004 - Sep 20051,041,081...\n",
       "Name: Title, dtype: object"
      ]
     },
     "execution_count": 59,
     "metadata": {},
     "output_type": "execute_result"
    }
   ],
   "source": [
    "\n",
    "df.nlargest(5, 'TotalMonths')['Title']"
   ]
  },
  {
   "cell_type": "code",
   "execution_count": null,
   "id": "45957cdf-40da-471f-a74a-1509adc4c365",
   "metadata": {},
   "outputs": [],
   "source": []
  }
 ],
 "metadata": {
  "kernelspec": {
   "display_name": "Python 3 (ipykernel)",
   "language": "python",
   "name": "python3"
  },
  "language_info": {
   "codemirror_mode": {
    "name": "ipython",
    "version": 3
   },
   "file_extension": ".py",
   "mimetype": "text/x-python",
   "name": "python",
   "nbconvert_exporter": "python",
   "pygments_lexer": "ipython3",
   "version": "3.13.1"
  }
 },
 "nbformat": 4,
 "nbformat_minor": 5
}
